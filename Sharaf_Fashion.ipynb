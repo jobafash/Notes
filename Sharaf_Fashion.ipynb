{
  "nbformat": 4,
  "nbformat_minor": 0,
  "metadata": {
    "colab": {
      "name": "Sharaf_Fashion.ipynb",
      "provenance": [],
      "authorship_tag": "ABX9TyMwMBuIhy2Z7hESJg/4uSBe",
      "include_colab_link": true
    },
    "kernelspec": {
      "name": "python3",
      "display_name": "Python 3"
    },
    "language_info": {
      "name": "python"
    }
  },
  "cells": [
    {
      "cell_type": "markdown",
      "metadata": {
        "id": "view-in-github",
        "colab_type": "text"
      },
      "source": [
        "<a href=\"https://colab.research.google.com/github/jobafash/Notes/blob/colab/Sharaf_Fashion.ipynb\" target=\"_parent\"><img src=\"https://colab.research.google.com/assets/colab-badge.svg\" alt=\"Open In Colab\"/></a>"
      ]
    },
    {
      "cell_type": "code",
      "metadata": {
        "id": "G9_BX-kJ-wKq"
      },
      "source": [
        "import pandas as pd"
      ],
      "execution_count": 2,
      "outputs": []
    },
    {
      "cell_type": "code",
      "metadata": {
        "id": "3BR-GMjQTh0k"
      },
      "source": [
        "sales_data = pd.read_csv('sample_data/order_export_2021-06-02-06-48-26.csv', encoding = \"ISO-8859-1\")"
      ],
      "execution_count": 4,
      "outputs": []
    },
    {
      "cell_type": "code",
      "metadata": {
        "colab": {
          "base_uri": "https://localhost:8080/",
          "height": 608
        },
        "id": "FbyeIVAqTlfs",
        "outputId": "2bee1a64-b28d-44e6-d0b2-32b2f6e55659"
      },
      "source": [
        "sales_data.head()"
      ],
      "execution_count": 5,
      "outputs": [
        {
          "output_type": "execute_result",
          "data": {
            "text/html": [
              "<div>\n",
              "<style scoped>\n",
              "    .dataframe tbody tr th:only-of-type {\n",
              "        vertical-align: middle;\n",
              "    }\n",
              "\n",
              "    .dataframe tbody tr th {\n",
              "        vertical-align: top;\n",
              "    }\n",
              "\n",
              "    .dataframe thead th {\n",
              "        text-align: right;\n",
              "    }\n",
              "</style>\n",
              "<table border=\"1\" class=\"dataframe\">\n",
              "  <thead>\n",
              "    <tr style=\"text-align: right;\">\n",
              "      <th></th>\n",
              "      <th>order_id</th>\n",
              "      <th>order_number</th>\n",
              "      <th>order_date</th>\n",
              "      <th>status</th>\n",
              "      <th>shipping_total</th>\n",
              "      <th>shipping_tax_total</th>\n",
              "      <th>fee_total</th>\n",
              "      <th>fee_tax_total</th>\n",
              "      <th>tax_total</th>\n",
              "      <th>cart_discount</th>\n",
              "      <th>order_discount</th>\n",
              "      <th>discount_total</th>\n",
              "      <th>order_total</th>\n",
              "      <th>order_currency</th>\n",
              "      <th>payment_method</th>\n",
              "      <th>shipping_method</th>\n",
              "      <th>customer_id</th>\n",
              "      <th>customer_user</th>\n",
              "      <th>customer_email</th>\n",
              "      <th>billing_first_name</th>\n",
              "      <th>billing_last_name</th>\n",
              "      <th>billing_company</th>\n",
              "      <th>billing_email</th>\n",
              "      <th>billing_phone</th>\n",
              "      <th>billing_address_1</th>\n",
              "      <th>billing_address_2</th>\n",
              "      <th>billing_postcode</th>\n",
              "      <th>billing_city</th>\n",
              "      <th>billing_state</th>\n",
              "      <th>billing_country</th>\n",
              "      <th>shipping_first_name</th>\n",
              "      <th>shipping_last_name</th>\n",
              "      <th>shipping_company</th>\n",
              "      <th>shipping_address_1</th>\n",
              "      <th>shipping_address_2</th>\n",
              "      <th>shipping_postcode</th>\n",
              "      <th>shipping_city</th>\n",
              "      <th>shipping_state</th>\n",
              "      <th>shipping_country</th>\n",
              "      <th>customer_note</th>\n",
              "      <th>wt_import_key</th>\n",
              "      <th>shipping_items</th>\n",
              "      <th>fee_items</th>\n",
              "      <th>tax_items</th>\n",
              "      <th>coupon_items</th>\n",
              "      <th>refund_items</th>\n",
              "      <th>order_notes</th>\n",
              "      <th>download_permissions</th>\n",
              "      <th>line_item_1</th>\n",
              "      <th>line_item_2</th>\n",
              "      <th>line_item_3</th>\n",
              "      <th>line_item_4</th>\n",
              "      <th>line_item_5</th>\n",
              "      <th>line_item_6</th>\n",
              "    </tr>\n",
              "  </thead>\n",
              "  <tbody>\n",
              "    <tr>\n",
              "      <th>0</th>\n",
              "      <td>12109</td>\n",
              "      <td>12109</td>\n",
              "      <td>2021-03-24 22:21:34</td>\n",
              "      <td>on-hold</td>\n",
              "      <td>0.0</td>\n",
              "      <td>0.0</td>\n",
              "      <td>0.0</td>\n",
              "      <td>0.0</td>\n",
              "      <td>0.0</td>\n",
              "      <td>0.0</td>\n",
              "      <td>0.0</td>\n",
              "      <td>0.0</td>\n",
              "      <td>171.0</td>\n",
              "      <td>TRY</td>\n",
              "      <td>bacs</td>\n",
              "      <td>NaN</td>\n",
              "      <td>633</td>\n",
              "      <td>633</td>\n",
              "      <td>dogantalat11@gmail.com</td>\n",
              "      <td>Tumbee</td>\n",
              "      <td>Romeo</td>\n",
              "      <td>NaN</td>\n",
              "      <td>romeo@sharafstore.com</td>\n",
              "      <td>05428748969</td>\n",
              "      <td>This is my address</td>\n",
              "      <td>Lefkosa</td>\n",
              "      <td>NaN</td>\n",
              "      <td>NaN</td>\n",
              "      <td>NaN</td>\n",
              "      <td>CY</td>\n",
              "      <td>NaN</td>\n",
              "      <td>NaN</td>\n",
              "      <td>NaN</td>\n",
              "      <td>NaN</td>\n",
              "      <td>NaN</td>\n",
              "      <td>NaN</td>\n",
              "      <td>NaN</td>\n",
              "      <td>NaN</td>\n",
              "      <td>NaN</td>\n",
              "      <td>NaN</td>\n",
              "      <td>12109</td>\n",
              "      <td>NaN</td>\n",
              "      <td>NaN</td>\n",
              "      <td>NaN</td>\n",
              "      <td>NaN</td>\n",
              "      <td>NaN</td>\n",
              "      <td>content:Stock levels reduced: Bershka Women's ...</td>\n",
              "      <td>0</td>\n",
              "      <td>name:Bershka KadÄ±n Fitilli GeniÅ PaÃ§alÄ± Pa...</td>\n",
              "      <td>NaN</td>\n",
              "      <td>NaN</td>\n",
              "      <td>NaN</td>\n",
              "      <td>NaN</td>\n",
              "      <td>NaN</td>\n",
              "    </tr>\n",
              "    <tr>\n",
              "      <th>1</th>\n",
              "      <td>12143</td>\n",
              "      <td>12143</td>\n",
              "      <td>2021-03-25 10:54:10</td>\n",
              "      <td>processing</td>\n",
              "      <td>0.0</td>\n",
              "      <td>0.0</td>\n",
              "      <td>0.0</td>\n",
              "      <td>0.0</td>\n",
              "      <td>0.0</td>\n",
              "      <td>0.0</td>\n",
              "      <td>0.0</td>\n",
              "      <td>0.0</td>\n",
              "      <td>285.0</td>\n",
              "      <td>TRY</td>\n",
              "      <td>cod</td>\n",
              "      <td>NaN</td>\n",
              "      <td>21066</td>\n",
              "      <td>21066</td>\n",
              "      <td>NaN</td>\n",
              "      <td>Biabarilee Romeo</td>\n",
              "      <td>Tumbee</td>\n",
              "      <td>NaN</td>\n",
              "      <td>romeo@layira.com</td>\n",
              "      <td>05428748969</td>\n",
              "      <td>Cikmaz Sokak NHG 4 Apartment Hamitkoy Door 3</td>\n",
              "      <td>Lefkosa</td>\n",
              "      <td>NaN</td>\n",
              "      <td>NaN</td>\n",
              "      <td>NaN</td>\n",
              "      <td>CY</td>\n",
              "      <td>NaN</td>\n",
              "      <td>NaN</td>\n",
              "      <td>NaN</td>\n",
              "      <td>NaN</td>\n",
              "      <td>NaN</td>\n",
              "      <td>NaN</td>\n",
              "      <td>NaN</td>\n",
              "      <td>NaN</td>\n",
              "      <td>NaN</td>\n",
              "      <td>Give a call before you come. Thanks</td>\n",
              "      <td>12143</td>\n",
              "      <td>NaN</td>\n",
              "      <td>NaN</td>\n",
              "      <td>NaN</td>\n",
              "      <td>NaN</td>\n",
              "      <td>NaN</td>\n",
              "      <td>content:Stock levels reduced: Zara Floral Prin...</td>\n",
              "      <td>1</td>\n",
              "      <td>name:Zara ÃiÃ§ek BaskÄ± GÃ¶mlek 6608/370/800|...</td>\n",
              "      <td>NaN</td>\n",
              "      <td>NaN</td>\n",
              "      <td>NaN</td>\n",
              "      <td>NaN</td>\n",
              "      <td>NaN</td>\n",
              "    </tr>\n",
              "    <tr>\n",
              "      <th>2</th>\n",
              "      <td>12145</td>\n",
              "      <td>12145</td>\n",
              "      <td>2021-03-25 13:04:02</td>\n",
              "      <td>processing</td>\n",
              "      <td>0.0</td>\n",
              "      <td>0.0</td>\n",
              "      <td>0.0</td>\n",
              "      <td>0.0</td>\n",
              "      <td>0.0</td>\n",
              "      <td>0.0</td>\n",
              "      <td>0.0</td>\n",
              "      <td>0.0</td>\n",
              "      <td>152.0</td>\n",
              "      <td>TRY</td>\n",
              "      <td>cod</td>\n",
              "      <td>NaN</td>\n",
              "      <td>21067</td>\n",
              "      <td>21067</td>\n",
              "      <td>NaN</td>\n",
              "      <td>Ä°brahim</td>\n",
              "      <td>Khan</td>\n",
              "      <td>NaN</td>\n",
              "      <td>ibrahim.khan@sharafstore.com</td>\n",
              "      <td>0533 8447482</td>\n",
              "      <td>Sharaf Depo</td>\n",
              "      <td>Ofis</td>\n",
              "      <td>NaN</td>\n",
              "      <td>NaN</td>\n",
              "      <td>NaN</td>\n",
              "      <td>CY</td>\n",
              "      <td>NaN</td>\n",
              "      <td>NaN</td>\n",
              "      <td>NaN</td>\n",
              "      <td>NaN</td>\n",
              "      <td>NaN</td>\n",
              "      <td>NaN</td>\n",
              "      <td>NaN</td>\n",
              "      <td>NaN</td>\n",
              "      <td>NaN</td>\n",
              "      <td>NaN</td>\n",
              "      <td>12145</td>\n",
              "      <td>NaN</td>\n",
              "      <td>NaN</td>\n",
              "      <td>NaN</td>\n",
              "      <td>NaN</td>\n",
              "      <td>NaN</td>\n",
              "      <td>content:Stok dÃ¼zeyleri dÃ¼ÅtÃ¼: Zara JakarlÄ...</td>\n",
              "      <td>1</td>\n",
              "      <td>name:Zara JakarlÄ± Polo GÃ¶mlek 0526/301/800|p...</td>\n",
              "      <td>NaN</td>\n",
              "      <td>NaN</td>\n",
              "      <td>NaN</td>\n",
              "      <td>NaN</td>\n",
              "      <td>NaN</td>\n",
              "    </tr>\n",
              "    <tr>\n",
              "      <th>3</th>\n",
              "      <td>12224</td>\n",
              "      <td>12224</td>\n",
              "      <td>2021-03-30 14:48:18</td>\n",
              "      <td>cancelled</td>\n",
              "      <td>0.0</td>\n",
              "      <td>0.0</td>\n",
              "      <td>0.0</td>\n",
              "      <td>0.0</td>\n",
              "      <td>0.0</td>\n",
              "      <td>0.0</td>\n",
              "      <td>0.0</td>\n",
              "      <td>0.0</td>\n",
              "      <td>390.0</td>\n",
              "      <td>TRY</td>\n",
              "      <td>cod</td>\n",
              "      <td>NaN</td>\n",
              "      <td>21098</td>\n",
              "      <td>21098</td>\n",
              "      <td>NaN</td>\n",
              "      <td>Akakaj</td>\n",
              "      <td>nansjansn</td>\n",
              "      <td>NaN</td>\n",
              "      <td>abcsedg@hotmail.com</td>\n",
              "      <td>0 (542)9999999</td>\n",
              "      <td>Yhanbebw</td>\n",
              "      <td>Nnsnsns</td>\n",
              "      <td>NaN</td>\n",
              "      <td>NaN</td>\n",
              "      <td>NaN</td>\n",
              "      <td>CY</td>\n",
              "      <td>NaN</td>\n",
              "      <td>NaN</td>\n",
              "      <td>NaN</td>\n",
              "      <td>NaN</td>\n",
              "      <td>NaN</td>\n",
              "      <td>NaN</td>\n",
              "      <td>NaN</td>\n",
              "      <td>NaN</td>\n",
              "      <td>NaN</td>\n",
              "      <td>NaN</td>\n",
              "      <td>12224</td>\n",
              "      <td>NaN</td>\n",
              "      <td>NaN</td>\n",
              "      <td>NaN</td>\n",
              "      <td>NaN</td>\n",
              "      <td>NaN</td>\n",
              "      <td>content:Stok dÃ¼zeyleri dÃ¼ÅtÃ¼: Zara KadÄ±n ...</td>\n",
              "      <td>0</td>\n",
              "      <td>name:Zara KadÄ±n  LOOSE-FITTING  Pantolon  276...</td>\n",
              "      <td>NaN</td>\n",
              "      <td>NaN</td>\n",
              "      <td>NaN</td>\n",
              "      <td>NaN</td>\n",
              "      <td>NaN</td>\n",
              "    </tr>\n",
              "    <tr>\n",
              "      <th>4</th>\n",
              "      <td>12225</td>\n",
              "      <td>12225</td>\n",
              "      <td>2021-03-30 18:16:36</td>\n",
              "      <td>cancelled</td>\n",
              "      <td>0.0</td>\n",
              "      <td>0.0</td>\n",
              "      <td>0.0</td>\n",
              "      <td>0.0</td>\n",
              "      <td>0.0</td>\n",
              "      <td>0.0</td>\n",
              "      <td>0.0</td>\n",
              "      <td>0.0</td>\n",
              "      <td>352.0</td>\n",
              "      <td>TRY</td>\n",
              "      <td>bacs</td>\n",
              "      <td>NaN</td>\n",
              "      <td>21105</td>\n",
              "      <td>21105</td>\n",
              "      <td>NaN</td>\n",
              "      <td>Orhan</td>\n",
              "      <td>SÄ±ÄÄ±rcÄ±</td>\n",
              "      <td>NaN</td>\n",
              "      <td>orhanvolkan4646@hotmail.com</td>\n",
              "      <td>05428794646</td>\n",
              "      <td>Kartal sok.</td>\n",
              "      <td>C/10</td>\n",
              "      <td>NaN</td>\n",
              "      <td>NaN</td>\n",
              "      <td>NaN</td>\n",
              "      <td>CY</td>\n",
              "      <td>NaN</td>\n",
              "      <td>NaN</td>\n",
              "      <td>NaN</td>\n",
              "      <td>NaN</td>\n",
              "      <td>NaN</td>\n",
              "      <td>NaN</td>\n",
              "      <td>NaN</td>\n",
              "      <td>NaN</td>\n",
              "      <td>NaN</td>\n",
              "      <td>NaN</td>\n",
              "      <td>12225</td>\n",
              "      <td>NaN</td>\n",
              "      <td>NaN</td>\n",
              "      <td>NaN</td>\n",
              "      <td>NaN</td>\n",
              "      <td>NaN</td>\n",
              "      <td>content:Stok dÃ¼zeyleri dÃ¼ÅtÃ¼: Zara Delikli...</td>\n",
              "      <td>0</td>\n",
              "      <td>name:Zara KadÄ±n Delikli ÃrgÃ¼ Bluz  03872221...</td>\n",
              "      <td>name:Bershka KadÄ±n LikralÄ± Pantolon - Siyah ...</td>\n",
              "      <td>NaN</td>\n",
              "      <td>NaN</td>\n",
              "      <td>NaN</td>\n",
              "      <td>NaN</td>\n",
              "    </tr>\n",
              "  </tbody>\n",
              "</table>\n",
              "</div>"
            ],
            "text/plain": [
              "   order_id  order_number  ... line_item_5 line_item_6\n",
              "0     12109         12109  ...         NaN         NaN\n",
              "1     12143         12143  ...         NaN         NaN\n",
              "2     12145         12145  ...         NaN         NaN\n",
              "3     12224         12224  ...         NaN         NaN\n",
              "4     12225         12225  ...         NaN         NaN\n",
              "\n",
              "[5 rows x 54 columns]"
            ]
          },
          "metadata": {
            "tags": []
          },
          "execution_count": 5
        }
      ]
    },
    {
      "cell_type": "code",
      "metadata": {
        "colab": {
          "base_uri": "https://localhost:8080/"
        },
        "id": "TQ9OiASfUU6Y",
        "outputId": "e43a41b1-8eed-4635-b7ab-c8650bfe19b9"
      },
      "source": [
        "sales_data.columns"
      ],
      "execution_count": 7,
      "outputs": [
        {
          "output_type": "execute_result",
          "data": {
            "text/plain": [
              "Index(['order_id', 'order_number', 'order_date', 'status', 'shipping_total',\n",
              "       'shipping_tax_total', 'fee_total', 'fee_tax_total', 'tax_total',\n",
              "       'cart_discount', 'order_discount', 'discount_total', 'order_total',\n",
              "       'order_currency', 'payment_method', 'shipping_method', 'customer_id',\n",
              "       'customer_user', 'customer_email', 'billing_first_name',\n",
              "       'billing_last_name', 'billing_company', 'billing_email',\n",
              "       'billing_phone', 'billing_address_1', 'billing_address_2',\n",
              "       'billing_postcode', 'billing_city', 'billing_state', 'billing_country',\n",
              "       'shipping_first_name', 'shipping_last_name', 'shipping_company',\n",
              "       'shipping_address_1', 'shipping_address_2', 'shipping_postcode',\n",
              "       'shipping_city', 'shipping_state', 'shipping_country', 'customer_note',\n",
              "       'wt_import_key', 'shipping_items', 'fee_items', 'tax_items',\n",
              "       'coupon_items', 'refund_items', 'order_notes', 'download_permissions',\n",
              "       'line_item_1', 'line_item_2', 'line_item_3', 'line_item_4',\n",
              "       'line_item_5', 'line_item_6'],\n",
              "      dtype='object')"
            ]
          },
          "metadata": {
            "tags": []
          },
          "execution_count": 7
        }
      ]
    },
    {
      "cell_type": "code",
      "metadata": {
        "colab": {
          "base_uri": "https://localhost:8080/"
        },
        "id": "6PhxHYJVV-5n",
        "outputId": "13abe378-224e-4c0f-ca3e-cd0a40a25b9b"
      },
      "source": [
        "sales_data.shape"
      ],
      "execution_count": 8,
      "outputs": [
        {
          "output_type": "execute_result",
          "data": {
            "text/plain": [
              "(52, 54)"
            ]
          },
          "metadata": {
            "tags": []
          },
          "execution_count": 8
        }
      ]
    },
    {
      "cell_type": "code",
      "metadata": {
        "colab": {
          "base_uri": "https://localhost:8080/"
        },
        "id": "YqmSeWvQUcPS",
        "outputId": "841d44bf-c7cb-4b8c-da65-73a5cb1277e8"
      },
      "source": [
        "sales_data['status'].value_counts()"
      ],
      "execution_count": 9,
      "outputs": [
        {
          "output_type": "execute_result",
          "data": {
            "text/plain": [
              "processing    43\n",
              "on-hold        6\n",
              "cancelled      3\n",
              "Name: status, dtype: int64"
            ]
          },
          "metadata": {
            "tags": []
          },
          "execution_count": 9
        }
      ]
    },
    {
      "cell_type": "code",
      "metadata": {
        "colab": {
          "base_uri": "https://localhost:8080/"
        },
        "id": "dbQIjwMpUhl1",
        "outputId": "264e6816-c240-4fb2-ee98-d078c1419b72"
      },
      "source": [
        "sales_data.info()"
      ],
      "execution_count": 10,
      "outputs": [
        {
          "output_type": "stream",
          "text": [
            "<class 'pandas.core.frame.DataFrame'>\n",
            "RangeIndex: 52 entries, 0 to 51\n",
            "Data columns (total 54 columns):\n",
            " #   Column                Non-Null Count  Dtype  \n",
            "---  ------                --------------  -----  \n",
            " 0   order_id              52 non-null     int64  \n",
            " 1   order_number          52 non-null     int64  \n",
            " 2   order_date            52 non-null     object \n",
            " 3   status                52 non-null     object \n",
            " 4   shipping_total        52 non-null     float64\n",
            " 5   shipping_tax_total    52 non-null     float64\n",
            " 6   fee_total             52 non-null     float64\n",
            " 7   fee_tax_total         52 non-null     float64\n",
            " 8   tax_total             52 non-null     float64\n",
            " 9   cart_discount         52 non-null     float64\n",
            " 10  order_discount        52 non-null     float64\n",
            " 11  discount_total        52 non-null     float64\n",
            " 12  order_total           52 non-null     float64\n",
            " 13  order_currency        52 non-null     object \n",
            " 14  payment_method        52 non-null     object \n",
            " 15  shipping_method       0 non-null      float64\n",
            " 16  customer_id           52 non-null     int64  \n",
            " 17  customer_user         52 non-null     int64  \n",
            " 18  customer_email        21 non-null     object \n",
            " 19  billing_first_name    52 non-null     object \n",
            " 20  billing_last_name     52 non-null     object \n",
            " 21  billing_company       0 non-null      float64\n",
            " 22  billing_email         52 non-null     object \n",
            " 23  billing_phone         52 non-null     object \n",
            " 24  billing_address_1     52 non-null     object \n",
            " 25  billing_address_2     29 non-null     object \n",
            " 26  billing_postcode      0 non-null      float64\n",
            " 27  billing_city          0 non-null      float64\n",
            " 28  billing_state         0 non-null      float64\n",
            " 29  billing_country       52 non-null     object \n",
            " 30  shipping_first_name   0 non-null      float64\n",
            " 31  shipping_last_name    0 non-null      float64\n",
            " 32  shipping_company      0 non-null      float64\n",
            " 33  shipping_address_1    0 non-null      float64\n",
            " 34  shipping_address_2    0 non-null      float64\n",
            " 35  shipping_postcode     0 non-null      float64\n",
            " 36  shipping_city         0 non-null      float64\n",
            " 37  shipping_state        0 non-null      float64\n",
            " 38  shipping_country      0 non-null      float64\n",
            " 39  customer_note         16 non-null     object \n",
            " 40  wt_import_key         52 non-null     int64  \n",
            " 41  shipping_items        0 non-null      float64\n",
            " 42  fee_items             0 non-null      float64\n",
            " 43  tax_items             0 non-null      float64\n",
            " 44  coupon_items          0 non-null      float64\n",
            " 45  refund_items          0 non-null      float64\n",
            " 46  order_notes           52 non-null     object \n",
            " 47  download_permissions  52 non-null     int64  \n",
            " 48  line_item_1           52 non-null     object \n",
            " 49  line_item_2           19 non-null     object \n",
            " 50  line_item_3           4 non-null      object \n",
            " 51  line_item_4           4 non-null      object \n",
            " 52  line_item_5           3 non-null      object \n",
            " 53  line_item_6           1 non-null      object \n",
            "dtypes: float64(28), int64(6), object(20)\n",
            "memory usage: 22.1+ KB\n"
          ],
          "name": "stdout"
        }
      ]
    },
    {
      "cell_type": "code",
      "metadata": {
        "colab": {
          "base_uri": "https://localhost:8080/"
        },
        "id": "wdB6Gk5TUkRv",
        "outputId": "ac9eb5b3-d2dd-4e62-b478-6bb06bb1992c"
      },
      "source": [
        "sales_data.isnull().sum()"
      ],
      "execution_count": 11,
      "outputs": [
        {
          "output_type": "execute_result",
          "data": {
            "text/plain": [
              "order_id                 0\n",
              "order_number             0\n",
              "order_date               0\n",
              "status                   0\n",
              "shipping_total           0\n",
              "shipping_tax_total       0\n",
              "fee_total                0\n",
              "fee_tax_total            0\n",
              "tax_total                0\n",
              "cart_discount            0\n",
              "order_discount           0\n",
              "discount_total           0\n",
              "order_total              0\n",
              "order_currency           0\n",
              "payment_method           0\n",
              "shipping_method         52\n",
              "customer_id              0\n",
              "customer_user            0\n",
              "customer_email          31\n",
              "billing_first_name       0\n",
              "billing_last_name        0\n",
              "billing_company         52\n",
              "billing_email            0\n",
              "billing_phone            0\n",
              "billing_address_1        0\n",
              "billing_address_2       23\n",
              "billing_postcode        52\n",
              "billing_city            52\n",
              "billing_state           52\n",
              "billing_country          0\n",
              "shipping_first_name     52\n",
              "shipping_last_name      52\n",
              "shipping_company        52\n",
              "shipping_address_1      52\n",
              "shipping_address_2      52\n",
              "shipping_postcode       52\n",
              "shipping_city           52\n",
              "shipping_state          52\n",
              "shipping_country        52\n",
              "customer_note           36\n",
              "wt_import_key            0\n",
              "shipping_items          52\n",
              "fee_items               52\n",
              "tax_items               52\n",
              "coupon_items            52\n",
              "refund_items            52\n",
              "order_notes              0\n",
              "download_permissions     0\n",
              "line_item_1              0\n",
              "line_item_2             33\n",
              "line_item_3             48\n",
              "line_item_4             48\n",
              "line_item_5             49\n",
              "line_item_6             51\n",
              "dtype: int64"
            ]
          },
          "metadata": {
            "tags": []
          },
          "execution_count": 11
        }
      ]
    },
    {
      "cell_type": "code",
      "metadata": {
        "id": "OArrxd7wUmWM"
      },
      "source": [
        "sales_data.drop(['shipping_company'], axis=1, inplace=True)\n",
        "\n",
        "sales_data.drop(['shipping_address_1'], axis=1, inplace=True)\n",
        "\n",
        "sales_data.drop(['shipping_address_2'], axis=1, inplace=True)\n",
        "\n",
        "sales_data.drop(['shipping_postcode'], axis=1, inplace=True)\n",
        "\n",
        "sales_data.drop(['shipping_city'], axis=1, inplace=True)\n",
        "\n",
        "sales_data.drop(['shipping_state'], axis=1, inplace=True)\n",
        "\n",
        "sales_data.drop(['shipping_country'], axis=1, inplace=True)\n",
        "\n",
        "sales_data.drop(['customer_note'], axis=1, inplace=True)\n",
        "\n",
        "sales_data.drop(['shipping_items'], axis=1, inplace=True)\n",
        "\n",
        "sales_data.drop(['fee_items'], axis=1, inplace=True)\n",
        "\n",
        "sales_data.drop(['tax_items'], axis=1, inplace=True)\n",
        "\n",
        "sales_data.drop(['coupon_items'], axis=1, inplace=True)\n",
        "\n",
        "sales_data.drop(['refund_items'], axis=1, inplace=True)\n",
        "\n",
        "sales_data.drop(['line_item_2'], axis=1, inplace=True)\n",
        "\n",
        "sales_data.drop(['line_item_3'], axis=1, inplace=True)\n",
        "\n",
        "sales_data.drop(['line_item_4'], axis=1, inplace=True)\n",
        "\n",
        "sales_data.drop(['line_item_5'], axis=1, inplace=True)\n",
        "\n",
        "sales_data.drop(['line_item_6'], axis=1, inplace=True)"
      ],
      "execution_count": 22,
      "outputs": []
    },
    {
      "cell_type": "code",
      "metadata": {
        "colab": {
          "base_uri": "https://localhost:8080/"
        },
        "id": "BOEJ2y-vUsqP",
        "outputId": "98608b33-3f9c-4140-b9af-b25a722b94f6"
      },
      "source": [
        "sales_data.isnull().sum()"
      ],
      "execution_count": 23,
      "outputs": [
        {
          "output_type": "execute_result",
          "data": {
            "text/plain": [
              "order_id                0\n",
              "order_number            0\n",
              "order_date              0\n",
              "status                  0\n",
              "shipping_total          0\n",
              "shipping_tax_total      0\n",
              "fee_total               0\n",
              "fee_tax_total           0\n",
              "tax_total               0\n",
              "cart_discount           0\n",
              "order_discount          0\n",
              "discount_total          0\n",
              "order_total             0\n",
              "order_currency          0\n",
              "payment_method          0\n",
              "customer_id             0\n",
              "customer_user           0\n",
              "billing_first_name      0\n",
              "billing_last_name       0\n",
              "billing_email           0\n",
              "billing_phone           0\n",
              "billing_address_1       0\n",
              "billing_country         0\n",
              "wt_import_key           0\n",
              "order_notes             0\n",
              "download_permissions    0\n",
              "line_item_1             0\n",
              "dtype: int64"
            ]
          },
          "metadata": {
            "tags": []
          },
          "execution_count": 23
        }
      ]
    },
    {
      "cell_type": "code",
      "metadata": {
        "id": "5HFXF0TOUvDq"
      },
      "source": [
        "sales_data.fillna('Unknown', inplace=True)"
      ],
      "execution_count": 24,
      "outputs": []
    },
    {
      "cell_type": "code",
      "metadata": {
        "colab": {
          "base_uri": "https://localhost:8080/"
        },
        "id": "1BLbjAVRUyA5",
        "outputId": "122768d5-3e18-4945-ff40-533ea41ea9fc"
      },
      "source": [
        "sales_data.isnull().values.any()"
      ],
      "execution_count": 25,
      "outputs": [
        {
          "output_type": "execute_result",
          "data": {
            "text/plain": [
              "False"
            ]
          },
          "metadata": {
            "tags": []
          },
          "execution_count": 25
        }
      ]
    },
    {
      "cell_type": "code",
      "metadata": {
        "colab": {
          "base_uri": "https://localhost:8080/"
        },
        "id": "XHq72iuWU0o2",
        "outputId": "87742dc4-1141-4ba4-e5f0-7b49e0af3a8d"
      },
      "source": [
        "sales_data.shape"
      ],
      "execution_count": 26,
      "outputs": [
        {
          "output_type": "execute_result",
          "data": {
            "text/plain": [
              "(52, 27)"
            ]
          },
          "metadata": {
            "tags": []
          },
          "execution_count": 26
        }
      ]
    },
    {
      "cell_type": "code",
      "metadata": {
        "id": "O2CHAD2rU2lH"
      },
      "source": [
        "important_data = sales_data[['order_id', 'order_date', 'status', 'order_total', 'customer_id', 'billing_first_name', 'billing_last_name', 'billing_email', 'billing_address_1','billing_country', 'line_item_1',]]"
      ],
      "execution_count": 28,
      "outputs": []
    },
    {
      "cell_type": "code",
      "metadata": {
        "colab": {
          "base_uri": "https://localhost:8080/"
        },
        "id": "evRPAyQ8U5v0",
        "outputId": "6628aa9d-40bf-4fb0-f96b-20ea9bae7a9b"
      },
      "source": [
        "important_data.columns"
      ],
      "execution_count": 35,
      "outputs": [
        {
          "output_type": "execute_result",
          "data": {
            "text/plain": [
              "Index(['order_id', 'order_date', 'status', 'order_total', 'customer_id',\n",
              "       'billing_first_name', 'billing_last_name', 'billing_email',\n",
              "       'billing_address_1', 'billing_country', 'line_item_1'],\n",
              "      dtype='object')"
            ]
          },
          "metadata": {
            "tags": []
          },
          "execution_count": 35
        }
      ]
    },
    {
      "cell_type": "code",
      "metadata": {
        "id": "yWuxNNnEU-2f"
      },
      "source": [
        "important_data.to_csv(\"sample_data/sharaf_fashion.csv\", index=False)"
      ],
      "execution_count": 36,
      "outputs": []
    }
  ]
}